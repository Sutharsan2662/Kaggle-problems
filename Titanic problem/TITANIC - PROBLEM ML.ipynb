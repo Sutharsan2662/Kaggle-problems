{
 "cells": [
  {
   "cell_type": "code",
   "execution_count": null,
   "id": "1b3cd943",
   "metadata": {},
   "outputs": [],
   "source": [
    "#titanic problem - kaggle \n",
    "import numpy as np\n",
    "import pandas as pd\n",
    "from sklearn.ensemble import RandomForestClassifier"
   ]
  },
  {
   "cell_type": "code",
   "execution_count": null,
   "id": "d77beea7",
   "metadata": {},
   "outputs": [],
   "source": [
    "df_train = pd.read_csv(\"train.csv\")"
   ]
  },
  {
   "cell_type": "code",
   "execution_count": null,
   "id": "1832bd3c",
   "metadata": {},
   "outputs": [],
   "source": [
    "df_train.shape"
   ]
  },
  {
   "cell_type": "code",
   "execution_count": null,
   "id": "25ae187c",
   "metadata": {},
   "outputs": [],
   "source": [
    "df_train.describe()"
   ]
  },
  {
   "cell_type": "code",
   "execution_count": null,
   "id": "7e1f295b",
   "metadata": {},
   "outputs": [],
   "source": [
    "#percentage survived \n",
    "df_train['Survived'].value_counts()/df_train['Survived'].count()"
   ]
  },
  {
   "cell_type": "code",
   "execution_count": null,
   "id": "d22de5ab",
   "metadata": {},
   "outputs": [],
   "source": [
    "#male percentage survived\n",
    "males = df_train[df_train['Sex'] == 'male']\n",
    "total_males = males.shape[0]\n",
    "males_survived = males[males['Survived'] == 1].shape[0]\n",
    "percentage_male = males_survived/total_males\n",
    "print(total_males)\n",
    "print(males_survived)\n",
    "print(percentage_male)"
   ]
  },
  {
   "cell_type": "code",
   "execution_count": null,
   "id": "b83c9f9b",
   "metadata": {},
   "outputs": [],
   "source": []
  },
  {
   "cell_type": "code",
   "execution_count": null,
   "id": "325fbb48",
   "metadata": {},
   "outputs": [],
   "source": [
    "#female percentage survived\n",
    "females = df_train[df_train['Sex'] == 'female']\n",
    "total_females = females.shape[0]\n",
    "females_survived = females[females['Survived'] == 1].shape[0]\n",
    "percentage_female = females_survived/total_females\n",
    "print(total_females)\n",
    "print(females_survived)\n",
    "print(percentage_female)"
   ]
  },
  {
   "cell_type": "code",
   "execution_count": null,
   "id": "707aef88",
   "metadata": {},
   "outputs": [],
   "source": [
    "df_train['Sex_encoded'] = df_train['Sex'].astype('category').cat.codes\n",
    "df_train['Embarked_encoded'] = df_train['Embarked'].astype('category').cat.codes\n",
    "\n",
    "#manipulating the NaN values in the age column\n",
    "df_train['Age'] = df_train['Age'].fillna('Unknown Age')  # Or any other desired category string\n",
    "df_train.loc[df_train['Age'] == 'Unknown Age', 'Age'] = -1\n",
    "df_train.to_csv(\"train_set_manipulated.csv\", index = False)\n",
    "#df_final = df_train.drop('Age_numeric', axis=1)\n",
    "print(df_train)"
   ]
  },
  {
   "cell_type": "code",
   "execution_count": null,
   "id": "f722f71a",
   "metadata": {},
   "outputs": [],
   "source": [
    "col_to_drop = ['Survived','Name','Cabin','Ticket','Sex','Embarked','Embarked_encoded','Pclass','SibSp','Parch','Fare']\n",
    "X_train = df_train.drop(col_to_drop,axis=1)\n",
    "print(X_train)\n",
    "Y_train = df_train.Survived\n",
    "!pip install xgboost\n",
    "#from xgboost import XGBClassifier\n",
    "from sklearn.linear_model import LogisticRegression\n",
    "#dtrain = xgb.DMatrix(X_train, label = Y_train)\n",
    "#params = { 'objective': 'binary:logistic','max_depth': 3,'learning rate': 0.1, 'eval_metric': 'logloss'}\n",
    "    \n",
    "clf = LogisticRegression(random_state = 16)\n",
    "clf.fit(X_train, Y_train)"
   ]
  },
  {
   "cell_type": "code",
   "execution_count": null,
   "id": "0d255237",
   "metadata": {},
   "outputs": [],
   "source": [
    "df_test = pd.read_csv('updated missing age.csv')\n",
    "df_test['Sex_encoded'] = df_test['Sex'].astype('category').cat.codes\n",
    "df_test['Embarked_encoded'] = df_test['Embarked'].astype('category').cat.codes\n",
    "\n",
    "#manipulating the NaN values in the age column\n",
    "df_test['Age'] = df_test['Age'].fillna('Unknown Age')  # Or any other desired category string\n",
    "df_test.loc[df_test['Age'] == 'Unknown Age', 'Age'] = -1\n",
    "col_to_drop = ['Name','Cabin','Ticket','Sex','Embarked','Embarked_encoded','Pclass','SibSp','Parch','Fare']\n",
    "X_test = df_test.drop(col_to_drop,axis=1)\n",
    "print(X_test)\n",
    "\n",
    "#dtest = xgb.DMatrix(X_test)\n",
    "#model = XGBClassifier()\n",
    "#bst = xgb.train(params, dtrain, num_boost_round=100,evals=[(dtest,'test')], early_stopping_rounds = 10)\n"
   ]
  },
  {
   "cell_type": "code",
   "execution_count": null,
   "id": "ea007bbc",
   "metadata": {},
   "outputs": [],
   "source": [
    "#Y_test = clf.fit(X_train, Y_train)\n",
    "y_pred = clf.predict(X_test)\n",
    "print(y_pred)\n"
   ]
  },
  {
   "cell_type": "code",
   "execution_count": null,
   "id": "c07ef265",
   "metadata": {},
   "outputs": [],
   "source": [
    "accuracy_df = pd.DataFrame({'PassengerId': df_test.PassengerId, 'Survived': y_pred})\n",
    "accuracy_df.to_csv(\"accuracy_output.csv\", index = False)\n",
    "print(\"Test accuracy saved as excel format\")"
   ]
  },
  {
   "cell_type": "code",
   "execution_count": null,
   "id": "788f82d9",
   "metadata": {},
   "outputs": [],
   "source": []
  }
 ],
 "metadata": {
  "kernelspec": {
   "display_name": "Python 3 (ipykernel)",
   "language": "python",
   "name": "python3"
  },
  "language_info": {
   "codemirror_mode": {
    "name": "ipython",
    "version": 3
   },
   "file_extension": ".py",
   "mimetype": "text/x-python",
   "name": "python",
   "nbconvert_exporter": "python",
   "pygments_lexer": "ipython3",
   "version": "3.12.4"
  }
 },
 "nbformat": 4,
 "nbformat_minor": 5
}
